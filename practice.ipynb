{
 "cells": [
  {
   "cell_type": "code",
   "execution_count": 2,
   "metadata": {},
   "outputs": [
    {
     "output_type": "execute_result",
     "data": {
      "text/plain": [
       "                            name  \\\n",
       "0                              q   \n",
       "1                         indent   \n",
       "2                          start   \n",
       "3                             fq   \n",
       "4                           rows   \n",
       "5                             wt   \n",
       "6                       checksum   \n",
       "7                  download_link   \n",
       "8                         _root_   \n",
       "9   published_instrument_file_id   \n",
       "10                            id   \n",
       "11                     file_name   \n",
       "12                     file_type   \n",
       "13                      checksum   \n",
       "14                 download_link   \n",
       "15                        _root_   \n",
       "16  published_instrument_file_id   \n",
       "17                            id   \n",
       "18                     file_name   \n",
       "19                     file_type   \n",
       "20                      checksum   \n",
       "21                 download_link   \n",
       "22                        _root_   \n",
       "23  published_instrument_file_id   \n",
       "24                            id   \n",
       "25                     file_name   \n",
       "26                     file_type   \n",
       "\n",
       "                                                 data  \n",
       "0                                                   *  \n",
       "1                                                true  \n",
       "2                                                   0  \n",
       "3   publication_date:[2020-01-08T00:00:00Z TO 2020...  \n",
       "4                                                 100  \n",
       "5                                                 xml  \n",
       "6                    67689f0fd11246facf4c475b5bf675ae  \n",
       "7   http://firds.esma.europa.eu/firds/DLTINS_20200...  \n",
       "8                                               30234  \n",
       "9                                               30234  \n",
       "10                                              30234  \n",
       "11                         DLTINS_20200108_01of03.zip  \n",
       "12                                             DLTINS  \n",
       "13                   67602b6faf7b1c2eec000e5426dc68dd  \n",
       "14  http://firds.esma.europa.eu/firds/DLTINS_20200...  \n",
       "15                                              30235  \n",
       "16                                              30235  \n",
       "17                                              30235  \n",
       "18                         DLTINS_20200108_02of03.zip  \n",
       "19                                             DLTINS  \n",
       "20                   fcd424591526665a64e3251ff7031bd2  \n",
       "21  http://firds.esma.europa.eu/firds/DLTINS_20200...  \n",
       "22                                              30236  \n",
       "23                                              30236  \n",
       "24                                              30236  \n",
       "25                         DLTINS_20200108_03of03.zip  \n",
       "26                                             DLTINS  "
      ],
      "text/html": "<div>\n<style scoped>\n    .dataframe tbody tr th:only-of-type {\n        vertical-align: middle;\n    }\n\n    .dataframe tbody tr th {\n        vertical-align: top;\n    }\n\n    .dataframe thead th {\n        text-align: right;\n    }\n</style>\n<table border=\"1\" class=\"dataframe\">\n  <thead>\n    <tr style=\"text-align: right;\">\n      <th></th>\n      <th>name</th>\n      <th>data</th>\n    </tr>\n  </thead>\n  <tbody>\n    <tr>\n      <th>0</th>\n      <td>q</td>\n      <td>*</td>\n    </tr>\n    <tr>\n      <th>1</th>\n      <td>indent</td>\n      <td>true</td>\n    </tr>\n    <tr>\n      <th>2</th>\n      <td>start</td>\n      <td>0</td>\n    </tr>\n    <tr>\n      <th>3</th>\n      <td>fq</td>\n      <td>publication_date:[2020-01-08T00:00:00Z TO 2020...</td>\n    </tr>\n    <tr>\n      <th>4</th>\n      <td>rows</td>\n      <td>100</td>\n    </tr>\n    <tr>\n      <th>5</th>\n      <td>wt</td>\n      <td>xml</td>\n    </tr>\n    <tr>\n      <th>6</th>\n      <td>checksum</td>\n      <td>67689f0fd11246facf4c475b5bf675ae</td>\n    </tr>\n    <tr>\n      <th>7</th>\n      <td>download_link</td>\n      <td>http://firds.esma.europa.eu/firds/DLTINS_20200...</td>\n    </tr>\n    <tr>\n      <th>8</th>\n      <td>_root_</td>\n      <td>30234</td>\n    </tr>\n    <tr>\n      <th>9</th>\n      <td>published_instrument_file_id</td>\n      <td>30234</td>\n    </tr>\n    <tr>\n      <th>10</th>\n      <td>id</td>\n      <td>30234</td>\n    </tr>\n    <tr>\n      <th>11</th>\n      <td>file_name</td>\n      <td>DLTINS_20200108_01of03.zip</td>\n    </tr>\n    <tr>\n      <th>12</th>\n      <td>file_type</td>\n      <td>DLTINS</td>\n    </tr>\n    <tr>\n      <th>13</th>\n      <td>checksum</td>\n      <td>67602b6faf7b1c2eec000e5426dc68dd</td>\n    </tr>\n    <tr>\n      <th>14</th>\n      <td>download_link</td>\n      <td>http://firds.esma.europa.eu/firds/DLTINS_20200...</td>\n    </tr>\n    <tr>\n      <th>15</th>\n      <td>_root_</td>\n      <td>30235</td>\n    </tr>\n    <tr>\n      <th>16</th>\n      <td>published_instrument_file_id</td>\n      <td>30235</td>\n    </tr>\n    <tr>\n      <th>17</th>\n      <td>id</td>\n      <td>30235</td>\n    </tr>\n    <tr>\n      <th>18</th>\n      <td>file_name</td>\n      <td>DLTINS_20200108_02of03.zip</td>\n    </tr>\n    <tr>\n      <th>19</th>\n      <td>file_type</td>\n      <td>DLTINS</td>\n    </tr>\n    <tr>\n      <th>20</th>\n      <td>checksum</td>\n      <td>fcd424591526665a64e3251ff7031bd2</td>\n    </tr>\n    <tr>\n      <th>21</th>\n      <td>download_link</td>\n      <td>http://firds.esma.europa.eu/firds/DLTINS_20200...</td>\n    </tr>\n    <tr>\n      <th>22</th>\n      <td>_root_</td>\n      <td>30236</td>\n    </tr>\n    <tr>\n      <th>23</th>\n      <td>published_instrument_file_id</td>\n      <td>30236</td>\n    </tr>\n    <tr>\n      <th>24</th>\n      <td>id</td>\n      <td>30236</td>\n    </tr>\n    <tr>\n      <th>25</th>\n      <td>file_name</td>\n      <td>DLTINS_20200108_03of03.zip</td>\n    </tr>\n    <tr>\n      <th>26</th>\n      <td>file_type</td>\n      <td>DLTINS</td>\n    </tr>\n  </tbody>\n</table>\n</div>"
     },
     "metadata": {},
     "execution_count": 2
    }
   ],
   "source": [
    "import pandas as pd\n",
    "import xml.etree.ElementTree as ET\n",
    "import io\n",
    "import requests\n",
    "import os, fnmatch\n",
    "\n",
    "# Checking all the xml files present in teh current dir\n",
    "def xml_check():\n",
    "\n",
    "    listOfFiles = os.listdir('.')\n",
    "    pattern = \"sample.xml\"\n",
    "    for entry in listOfFiles:\n",
    "        if fnmatch.fnmatch(entry, pattern):\n",
    "            return entry\n",
    "file_name = new_xml()\n",
    "print(\"The current file being read is: {}\".format(file_name))\n",
    "\n",
    "\n",
    "\n",
    "def iter_docs(name):\n",
    "    name_attr = name.attrib\n",
    "    for doc in name.iter('str'):\n",
    "        doc_dict = name_attr.copy()\n",
    "        doc_dict.update(doc.attrib)\n",
    "        doc_dict['data'] = doc.text\n",
    "        yield doc_dict\n",
    "        \n",
    "etree = ET.parse(xml_check())\n",
    "doc_df = pd.DataFrame(list(iter_docs(etree.getroot())))\n",
    "doc_df"
   ]
  },
  {
   "cell_type": "code",
   "execution_count": 3,
   "metadata": {},
   "outputs": [
    {
     "output_type": "execute_result",
     "data": {
      "text/plain": [
       "'http://firds.esma.europa.eu/firds/DLTINS_20200108_01of03.zip'"
      ]
     },
     "metadata": {},
     "execution_count": 3
    }
   ],
   "source": [
    "url = doc_df.loc[:, \"data\"][7]\n",
    "url"
   ]
  },
  {
   "cell_type": "code",
   "execution_count": 4,
   "metadata": {},
   "outputs": [
    {
     "output_type": "stream",
     "name": "stdout",
     "text": [
      "Beginning file download with urllib2...\n"
     ]
    }
   ],
   "source": [
    "r = requests.get(url, allow_redirects=True)\n",
    "print('Beginning file download with urllib2...')"
   ]
  },
  {
   "cell_type": "code",
   "execution_count": 5,
   "metadata": {},
   "outputs": [],
   "source": [
    "#myroot = mytree.getroot()"
   ]
  },
  {
   "cell_type": "code",
   "execution_count": 7,
   "metadata": {},
   "outputs": [],
   "source": [
    "#print(myroot.tag)"
   ]
  },
  {
   "cell_type": "code",
   "execution_count": 8,
   "metadata": {},
   "outputs": [],
   "source": [
    "#print(myroot[0].tag)"
   ]
  },
  {
   "cell_type": "code",
   "execution_count": 9,
   "metadata": {},
   "outputs": [],
   "source": [
    "#print(myroot[1].tag)"
   ]
  },
  {
   "cell_type": "code",
   "execution_count": 10,
   "metadata": {},
   "outputs": [],
   "source": [
    "#print(myroot.tag)\n",
    "#print(myroot[0].attrib)\n",
    "#print(myroot[1].tag)"
   ]
  },
  {
   "cell_type": "code",
   "execution_count": 11,
   "metadata": {},
   "outputs": [],
   "source": [
    "#for x in myroot[0][2]:\n",
    "    #print(x.tag, x.attrib)"
   ]
  },
  {
   "cell_type": "code",
   "execution_count": 12,
   "metadata": {},
   "outputs": [],
   "source": [
    "#for x in myroot[1][2]:\n",
    "    #print(x.tag, x.attrib.get('name'))\n",
    "    "
   ]
  },
  {
   "cell_type": "code",
   "execution_count": 13,
   "metadata": {},
   "outputs": [],
   "source": [
    "#for doc in myroot.iter('str'):\n",
    "            #print(doc.tag, doc.attrib)\n",
    "            #print(doc.attrib.get('name'))"
   ]
  },
  {
   "cell_type": "code",
   "execution_count": 14,
   "metadata": {},
   "outputs": [],
   "source": [
    "#for x in myroot.findall('str'):\n",
    "    #d = x.find('name').text\n",
    "    #print(d)"
   ]
  },
  {
   "cell_type": "code",
   "execution_count": 15,
   "metadata": {},
   "outputs": [
    {
     "data": {
      "text/plain": [
       "'\\n\\nfrom download_and_extract import Fetcher, FetcherException\\n\\ntry:\\n    fetcher.fetch(\"http://example.com/about.txt\", \"./test/1\")\\nraise FetcherException as ex:\\n    print(\"Some error\")\\n'"
      ]
     },
     "execution_count": 15,
     "metadata": {},
     "output_type": "execute_result"
    }
   ],
   "source": [
    "\"\"\"\n",
    "\n",
    "from download_and_extract import Fetcher, FetcherException\n",
    "\n",
    "try:\n",
    "    fetcher.fetch(\"http://example.com/about.txt\", \"./test/1\")\n",
    "raise FetcherException as ex:\n",
    "    print(\"Some error\")\n",
    "\"\"\"\n"
   ]
  },
  {
   "cell_type": "code",
   "execution_count": 6,
   "metadata": {},
   "outputs": [
    {
     "output_type": "stream",
     "name": "stdout",
     "text": [
      "Ok\n"
     ]
    }
   ],
   "source": [
    "import os, fnmatch\n",
    "import zipfile\n",
    "from zipfile import ZipFile\n",
    "\n",
    "# Checking all the zip files present in teh current dir\n",
    "def file_check():\n",
    "\n",
    "    listOfFiles = os.listdir('.')\n",
    "    pattern = \"*.zip\"\n",
    "    for entry in listOfFiles:\n",
    "        if fnmatch.fnmatch(entry, pattern):\n",
    "            return entry\n",
    "\n",
    "# Ensuring the zip file is valid\n",
    "\n",
    "\n",
    "def main():\n",
    "    try:\n",
    "        with zipfile.ZipFile(file_check()) as file: # opening the zip file using 'zipfile.ZipFile' class\n",
    "            print(\"Ok\")\n",
    "    except zipfile.BadZipFile: # if the zip file has any errors then it prints the error message which you wrote under the 'except' block\n",
    "        print('Error: Zip file is corrupted')\n",
    "\n",
    "if __name__ == '__main__': main()\n",
    "\n",
    "## I used a badfile for the test"
   ]
  },
  {
   "cell_type": "code",
   "execution_count": 17,
   "metadata": {},
   "outputs": [
    {
     "name": "stdout",
     "output_type": "stream",
     "text": [
      "File Name                                             Modified             Size\n",
      "DLTINS_20200108_01of03.xml                     2020-01-08 04:14:10    519621762\n",
      "Zip Extraction Completed\n"
     ]
    }
   ],
   "source": [
    "\n",
    "with ZipFile(file_check(), 'r') as zf:\n",
    "       #display the files inside the zip\n",
    "    zf.printdir()\n",
    "       #Extracting the files from zip file\n",
    "       # also generate the desired output name:\n",
    "    zf.extractall()\n",
    "    print('Zip Extraction Completed')"
   ]
  },
  {
   "cell_type": "code",
   "execution_count": 7,
   "metadata": {},
   "outputs": [],
   "source": [
    "# Checking all the xml files present in teh current dir\n",
    "def new_xml():\n",
    "    \n",
    "    listOfFiles = os.listdir('.')\n",
    "    pattern = \"DL*.xml\"\n",
    "    for entry in listOfFiles:\n",
    "        if fnmatch.fnmatch(entry, pattern):\n",
    "            return entry"
   ]
  },
  {
   "cell_type": "code",
   "execution_count": 8,
   "metadata": {},
   "outputs": [
    {
     "output_type": "execute_result",
     "data": {
      "text/plain": [
       "'DLTINS_20200108_01of03.xml'"
      ]
     },
     "metadata": {},
     "execution_count": 8
    }
   ],
   "source": [
    "new_xml()"
   ]
  },
  {
   "cell_type": "code",
   "execution_count": 20,
   "metadata": {},
   "outputs": [
    {
     "data": {
      "text/plain": [
       "'\\n\\n    FinInstrmGnlAttrbts.Id\\n    FinInstrmGnlAttrbts.FullNm\\n    FinInstrmGnlAttrbts.ClssfctnTp\\n    FinInstrmGnlAttrbts.CmmdtyDerivInd\\n    FinInstrmGnlAttrbts.NtnlCcy\\n    Issr\\n\\n\\n'"
      ]
     },
     "execution_count": 20,
     "metadata": {},
     "output_type": "execute_result"
    }
   ],
   "source": [
    "\"\"\"\n",
    "\n",
    "    FinInstrmGnlAttrbts.Id\n",
    "    FinInstrmGnlAttrbts.FullNm\n",
    "    FinInstrmGnlAttrbts.ClssfctnTp\n",
    "    FinInstrmGnlAttrbts.CmmdtyDerivInd\n",
    "    FinInstrmGnlAttrbts.NtnlCcy\n",
    "    Issr\n",
    "\n",
    "\n",
    "\"\"\""
   ]
  },
  {
   "cell_type": "code",
   "execution_count": 9,
   "metadata": {},
   "outputs": [
    {
     "output_type": "execute_result",
     "data": {
      "text/plain": [
       "<Element '{urn:iso:std:iso:20022:tech:xsd:head.003.001.01}BizData' at 0x123932540>"
      ]
     },
     "metadata": {},
     "execution_count": 9
    }
   ],
   "source": [
    "tree = ET.parse(new_xml())\n",
    "xroot = tree.getroot()\n",
    "xroot"
   ]
  },
  {
   "cell_type": "code",
   "execution_count": 10,
   "metadata": {},
   "outputs": [],
   "source": [
    "tree = ET.parse(new_xml())\n",
    "xroot = tree.getroot()\n",
    "number_of_element = len(xroot.findall(\"./\"))\n"
   ]
  },
  {
   "cell_type": "code",
   "execution_count": 11,
   "metadata": {},
   "outputs": [],
   "source": [
    "xml_file = new_xml()"
   ]
  },
  {
   "cell_type": "code",
   "execution_count": 12,
   "metadata": {},
   "outputs": [],
   "source": [
    "def read_xml_file(xml_file, element):\n",
    "    \"\"\"\n",
    "    Parse the xml file to xml.etree.cElementTree\n",
    "    \"\"\"\n",
    "    tree = ET.parse(xml_file)\n",
    "    root = tree.getroot()\n",
    "    number_of_element = len(root.findall(element))\n",
    "    return '{:,.0f}'.format(number_of_element)"
   ]
  },
  {
   "cell_type": "code",
   "execution_count": 13,
   "metadata": {},
   "outputs": [
    {
     "output_type": "execute_result",
     "data": {
      "text/plain": [
       "'1'"
      ]
     },
     "metadata": {},
     "execution_count": 13
    }
   ],
   "source": [
    "read_xml_file(xml_file, '.')"
   ]
  },
  {
   "cell_type": "code",
   "execution_count": 14,
   "metadata": {},
   "outputs": [
    {
     "output_type": "stream",
     "name": "stdout",
     "text": [
      "{urn:iso:std:iso:20022:tech:xsd:head.001.001.01}AppHdr\n"
     ]
    }
   ],
   "source": [
    "for i in xroot[0]:\n",
    "    print(i.tag)"
   ]
  },
  {
   "cell_type": "code",
   "execution_count": 15,
   "metadata": {},
   "outputs": [],
   "source": [
    "for i in xroot.iter('Document'):\n",
    "                   print(i)"
   ]
  },
  {
   "cell_type": "code",
   "execution_count": 16,
   "metadata": {},
   "outputs": [
    {
     "output_type": "stream",
     "name": "stdout",
     "text": [
      "{urn:iso:std:iso:20022:tech:xsd:head.003.001.01}Pyld\n{urn:iso:std:iso:20022:tech:xsd:head.003.001.01}BizData\n"
     ]
    }
   ],
   "source": [
    "print(xroot[1].tag)\n",
    "print(xroot.tag)"
   ]
  },
  {
   "cell_type": "code",
   "execution_count": 18,
   "metadata": {},
   "outputs": [
    {
     "output_type": "stream",
     "name": "stdout",
     "text": [
      "{urn:iso:std:iso:20022:tech:xsd:head.003.001.01}BizData\n"
     ]
    }
   ],
   "source": [
    "for x in xroot.findall(\".\"):\n",
    "    print(x.tag)"
   ]
  },
  {
   "cell_type": "code",
   "execution_count": 19,
   "metadata": {},
   "outputs": [
    {
     "output_type": "stream",
     "name": "stdout",
     "text": [
      "{urn:iso:std:iso:20022:tech:xsd:head.003.001.01}Hdr\n{urn:iso:std:iso:20022:tech:xsd:head.003.001.01}Pyld\n"
     ]
    }
   ],
   "source": [
    "for x in xroot.findall(\"./\"):\n",
    "    print(x.tag)"
   ]
  },
  {
   "cell_type": "code",
   "execution_count": 161,
   "metadata": {},
   "outputs": [],
   "source": [
    "for x in xroot.findall(\".//Hdr\"):\n",
    "        print(x)"
   ]
  },
  {
   "cell_type": "code",
   "execution_count": 164,
   "metadata": {},
   "outputs": [
    {
     "data": {
      "text/plain": [
       "<Element '{urn:iso:std:iso:20022:tech:xsd:head.003.001.01}BizData' at 0x1c665bb80>"
      ]
     },
     "execution_count": 164,
     "metadata": {},
     "output_type": "execute_result"
    }
   ],
   "source": [
    "first = xroot.find('.')\n",
    "first"
   ]
  },
  {
   "cell_type": "code",
   "execution_count": 165,
   "metadata": {},
   "outputs": [
    {
     "data": {
      "text/plain": [
       "<Element '{urn:iso:std:iso:20022:tech:xsd:head.003.001.01}Hdr' at 0x1c665bbd0>"
      ]
     },
     "execution_count": 165,
     "metadata": {},
     "output_type": "execute_result"
    }
   ],
   "source": [
    "first = xroot.find('./')\n",
    "first"
   ]
  },
  {
   "cell_type": "code",
   "execution_count": 22,
   "metadata": {},
   "outputs": [],
   "source": [
    "first = xroot.find('.BizData')\n",
    "first"
   ]
  },
  {
   "cell_type": "code",
   "execution_count": 23,
   "metadata": {},
   "outputs": [],
   "source": [
    "for x in xroot.findall('AppHdr'):\n",
    "    d = x.find('name').text\n",
    "    print(d)"
   ]
  },
  {
   "cell_type": "code",
   "execution_count": 24,
   "metadata": {},
   "outputs": [
    {
     "output_type": "error",
     "ename": "NameError",
     "evalue": "name 'author' is not defined",
     "traceback": [
      "\u001b[0;31m---------------------------------------------------------------------------\u001b[0m",
      "\u001b[0;31mNameError\u001b[0m                                 Traceback (most recent call last)",
      "\u001b[0;32m<ipython-input-24-7f56d11430a1>\u001b[0m in \u001b[0;36m<module>\u001b[0;34m\u001b[0m\n\u001b[1;32m     12\u001b[0m \u001b[0;34m\u001b[0m\u001b[0m\n\u001b[1;32m     13\u001b[0m \u001b[0metree\u001b[0m \u001b[0;34m=\u001b[0m \u001b[0mET\u001b[0m\u001b[0;34m.\u001b[0m\u001b[0mparse\u001b[0m\u001b[0;34m(\u001b[0m\u001b[0mnew_xml\u001b[0m\u001b[0;34m(\u001b[0m\u001b[0;34m)\u001b[0m\u001b[0;34m)\u001b[0m \u001b[0;31m#create an ElementTree object\u001b[0m\u001b[0;34m\u001b[0m\u001b[0;34m\u001b[0m\u001b[0m\n\u001b[0;32m---> 14\u001b[0;31m \u001b[0mdoc_df\u001b[0m \u001b[0;34m=\u001b[0m \u001b[0mpd\u001b[0m\u001b[0;34m.\u001b[0m\u001b[0mDataFrame\u001b[0m\u001b[0;34m(\u001b[0m\u001b[0mlist\u001b[0m\u001b[0;34m(\u001b[0m\u001b[0miter_docs\u001b[0m\u001b[0;34m(\u001b[0m\u001b[0metree\u001b[0m\u001b[0;34m.\u001b[0m\u001b[0mgetroot\u001b[0m\u001b[0;34m(\u001b[0m\u001b[0;34m)\u001b[0m\u001b[0;34m)\u001b[0m\u001b[0;34m)\u001b[0m\u001b[0;34m)\u001b[0m\u001b[0;34m\u001b[0m\u001b[0;34m\u001b[0m\u001b[0m\n\u001b[0m",
      "\u001b[0;32m<ipython-input-24-7f56d11430a1>\u001b[0m in \u001b[0;36miter_docs\u001b[0;34m(BizData)\u001b[0m\n\u001b[1;32m      5\u001b[0m \u001b[0;32mdef\u001b[0m \u001b[0miter_docs\u001b[0m\u001b[0;34m(\u001b[0m\u001b[0mBizData\u001b[0m\u001b[0;34m)\u001b[0m\u001b[0;34m:\u001b[0m\u001b[0;34m\u001b[0m\u001b[0;34m\u001b[0m\u001b[0m\n\u001b[1;32m      6\u001b[0m     \u001b[0mBizData_attr\u001b[0m \u001b[0;34m=\u001b[0m \u001b[0mBizData\u001b[0m\u001b[0;34m.\u001b[0m\u001b[0mattrib\u001b[0m\u001b[0;34m\u001b[0m\u001b[0;34m\u001b[0m\u001b[0m\n\u001b[0;32m----> 7\u001b[0;31m     \u001b[0;32mfor\u001b[0m \u001b[0mdoc\u001b[0m \u001b[0;32min\u001b[0m \u001b[0mauthor\u001b[0m\u001b[0;34m.\u001b[0m\u001b[0miter\u001b[0m\u001b[0;34m(\u001b[0m\u001b[0;34m'Hdr'\u001b[0m\u001b[0;34m)\u001b[0m\u001b[0;34m:\u001b[0m\u001b[0;34m\u001b[0m\u001b[0;34m\u001b[0m\u001b[0m\n\u001b[0m\u001b[1;32m      8\u001b[0m         \u001b[0mdoc_dict\u001b[0m \u001b[0;34m=\u001b[0m \u001b[0mBizData_attr\u001b[0m\u001b[0;34m.\u001b[0m\u001b[0mcopy\u001b[0m\u001b[0;34m(\u001b[0m\u001b[0;34m)\u001b[0m\u001b[0;34m\u001b[0m\u001b[0;34m\u001b[0m\u001b[0m\n\u001b[1;32m      9\u001b[0m         \u001b[0mdoc_dict\u001b[0m\u001b[0;34m.\u001b[0m\u001b[0mupdate\u001b[0m\u001b[0;34m(\u001b[0m\u001b[0mdoc\u001b[0m\u001b[0;34m.\u001b[0m\u001b[0mattrib\u001b[0m\u001b[0;34m)\u001b[0m\u001b[0;34m\u001b[0m\u001b[0;34m\u001b[0m\u001b[0m\n",
      "\u001b[0;31mNameError\u001b[0m: name 'author' is not defined"
     ]
    }
   ],
   "source": [
    "import pandas as pd\n",
    "import xml.etree.ElementTree as ET\n",
    "import io\n",
    "\n",
    "def iter_docs(BizData):\n",
    "    BizData_attr = BizData.attrib\n",
    "    for doc in author.iter('Hdr'):\n",
    "        doc_dict = BizData_attr.copy()\n",
    "        doc_dict.update(doc.attrib)\n",
    "        doc_dict['data'] = doc.text\n",
    "        yield doc_dict\n",
    "\n",
    "etree = ET.parse(new_xml()) #create an ElementTree object \n",
    "doc_df = pd.DataFrame(list(iter_docs(etree.getroot())))\n"
   ]
  },
  {
   "cell_type": "code",
   "execution_count": null,
   "metadata": {},
   "outputs": [],
   "source": [
    "doc_df.head()"
   ]
  },
  {
   "cell_type": "code",
   "execution_count": null,
   "metadata": {},
   "outputs": [],
   "source": []
  },
  {
   "cell_type": "code",
   "execution_count": null,
   "metadata": {},
   "outputs": [],
   "source": []
  }
 ],
 "metadata": {
  "kernelspec": {
   "name": "python3",
   "display_name": "Python 3.9.0 64-bit",
   "metadata": {
    "interpreter": {
     "hash": "ac2eaa0ea0ebeafcc7822e65e46aa9d4f966f30b695406963e145ea4a91cd4fc"
    }
   }
  },
  "language_info": {
   "codemirror_mode": {
    "name": "ipython",
    "version": 3
   },
   "file_extension": ".py",
   "mimetype": "text/x-python",
   "name": "python",
   "nbconvert_exporter": "python",
   "pygments_lexer": "ipython3",
   "version": "3.9.0-final"
  }
 },
 "nbformat": 4,
 "nbformat_minor": 4
}